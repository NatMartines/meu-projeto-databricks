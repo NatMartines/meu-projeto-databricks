{
 "cells": [
  {
   "cell_type": "code",
   "execution_count": 0,
   "metadata": {
    "application/vnd.databricks.v1+cell": {
     "cellMetadata": {
      "byteLimit": 2048000,
      "rowLimit": 10000
     },
     "inputWidgets": {},
     "nuid": "5fecb592-a7d4-4beb-9cb7-7c08d3cd2044",
     "showTitle": false,
     "tableResultSettingsMap": {},
     "title": ""
    }
   },
   "outputs": [],
   "source": [
    "df_silver_municipio = spark.read.parquet(\"/mnt/dados/silver/municipio/tb_municipio.parquet\")"
   ]
  },
  {
   "cell_type": "code",
   "execution_count": 0,
   "metadata": {
    "application/vnd.databricks.v1+cell": {
     "cellMetadata": {
      "byteLimit": 2048000,
      "rowLimit": 10000
     },
     "inputWidgets": {},
     "nuid": "5e6ec4ec-e13a-48b0-9f3e-55753f3fb6fa",
     "showTitle": false,
     "tableResultSettingsMap": {},
     "title": ""
    }
   },
   "outputs": [],
   "source": [
    "df_silver_municipio.createOrReplaceTempView(\"tb_municipio_nova\")"
   ]
  },
  {
   "cell_type": "code",
   "execution_count": 0,
   "metadata": {
    "application/vnd.databricks.v1+cell": {
     "cellMetadata": {
      "byteLimit": 2048000,
      "rowLimit": 10000
     },
     "inputWidgets": {},
     "nuid": "feb397aa-4e83-4d93-b159-ed9729828839",
     "showTitle": false,
     "tableResultSettingsMap": {},
     "title": ""
    }
   },
   "outputs": [],
   "source": [
    "display(spark.sql(\"SELECT * FROM tb_municipio_nova\"))"
   ]
  },
  {
   "cell_type": "code",
   "execution_count": 0,
   "metadata": {
    "application/vnd.databricks.v1+cell": {
     "cellMetadata": {
      "byteLimit": 2048000,
      "rowLimit": 10000
     },
     "inputWidgets": {},
     "nuid": "f1279152-202a-43fb-a16b-3c346d97c25d",
     "showTitle": false,
     "tableResultSettingsMap": {},
     "title": ""
    }
   },
   "outputs": [],
   "source": [
    "df_silver = spark.read.parquet(\"/mnt/dados/silver/dengue/tb_dengue.parquet\")"
   ]
  },
  {
   "cell_type": "code",
   "execution_count": 0,
   "metadata": {
    "application/vnd.databricks.v1+cell": {
     "cellMetadata": {
      "byteLimit": 2048000,
      "rowLimit": 10000
     },
     "inputWidgets": {},
     "nuid": "72617551-cacc-4e64-af07-ed4b09f861d1",
     "showTitle": false,
     "tableResultSettingsMap": {},
     "title": ""
    }
   },
   "outputs": [],
   "source": [
    "df_silver.createOrReplaceTempView(\"tb_dengue_nova\")"
   ]
  },
  {
   "cell_type": "code",
   "execution_count": 0,
   "metadata": {
    "application/vnd.databricks.v1+cell": {
     "cellMetadata": {
      "byteLimit": 2048000,
      "rowLimit": 10000
     },
     "inputWidgets": {},
     "nuid": "0630dac8-47d2-4f64-b6a9-18ab96205b57",
     "showTitle": false,
     "tableResultSettingsMap": {},
     "title": ""
    }
   },
   "outputs": [],
   "source": [
    "display(spark.sql(\"SELECT * FROM tb_dengue_nova\"))"
   ]
  },
  {
   "cell_type": "code",
   "execution_count": 0,
   "metadata": {
    "application/vnd.databricks.v1+cell": {
     "cellMetadata": {
      "byteLimit": 2048000,
      "implicitDf": true,
      "rowLimit": 10000
     },
     "inputWidgets": {},
     "nuid": "13d5cb9b-68ad-4fc7-9e86-9cfbf88761da",
     "showTitle": false,
     "tableResultSettingsMap": {},
     "title": ""
    }
   },
   "outputs": [],
   "source": [
    "%sql\n",
    "SELECT  \n",
    "    c.ID_MUNICIPIO,\n",
    "    m.MUNICIPIO,\n",
    "    m.LATITUDE,\n",
    "    m.LONGITUDE,\n",
    "    m.ALTITUDE,\n",
    "    c.DT_NOTIFICACAO,\n",
    "    c.ANO,\n",
    "    c.SEXO,\n",
    "    c.POSSUI_FEBRE,\n",
    "    c.POSSUI_NAUSEA,\n",
    "    c.POSSUI_VOMITO,\n",
    "    c.POSSUI_DOR_MUSCULAR,\n",
    "    c.POSSUI_DOR_DE_CABECA,\n",
    "    current_timestamp() AS DT_INGESTAO\n",
    "FROM tb_dengue_nova c\n",
    "INNER JOIN tb_municipio_nova m ON c.ID_MUNICIPIO = m.ID_MUNICIPIO"
   ]
  },
  {
   "cell_type": "markdown",
   "metadata": {
    "application/vnd.databricks.v1+cell": {
     "cellMetadata": {},
     "inputWidgets": {},
     "nuid": "ece96cbe-380e-40d2-a38c-b152e092cf9e",
     "showTitle": false,
     "tableResultSettingsMap": {},
     "title": ""
    }
   },
   "source": [
    "## TOTAL DE CASO DE DENGUE POR ANO"
   ]
  },
  {
   "cell_type": "code",
   "execution_count": 0,
   "metadata": {
    "application/vnd.databricks.v1+cell": {
     "cellMetadata": {
      "byteLimit": 2048000,
      "implicitDf": true,
      "rowLimit": 10000
     },
     "inputWidgets": {},
     "nuid": "ffec6ce2-d3cd-4190-ac34-cd29b42ec561",
     "showTitle": false,
     "tableResultSettingsMap": {},
     "title": ""
    }
   },
   "outputs": [],
   "source": [
    "%sql\n",
    "SELECT \n",
    "  ANO AS ANO,\n",
    "  COUNT(*) AS TOTAL_CASOS\n",
    "FROM tb_dengue_nova\n",
    "GROUP BY ANO\n",
    "ORDER BY ANO"
   ]
  },
  {
   "cell_type": "markdown",
   "metadata": {
    "application/vnd.databricks.v1+cell": {
     "cellMetadata": {},
     "inputWidgets": {},
     "nuid": "8be3b2e1-a40d-4b1d-8484-14927fe00c45",
     "showTitle": false,
     "tableResultSettingsMap": {},
     "title": ""
    }
   },
   "source": [
    "## MUNICIPIO QUE TEVE MAIS CASOS DE DENGUE EM CADA ANO"
   ]
  },
  {
   "cell_type": "code",
   "execution_count": 0,
   "metadata": {
    "application/vnd.databricks.v1+cell": {
     "cellMetadata": {
      "byteLimit": 2048000,
      "implicitDf": true,
      "rowLimit": 10000
     },
     "inputWidgets": {},
     "nuid": "1937557d-31d4-42b4-90b3-49dc5f7db243",
     "showTitle": false,
     "tableResultSettingsMap": {},
     "title": ""
    }
   },
   "outputs": [],
   "source": [
    "%sql\n",
    "SELECT \n",
    "  t.ANO,\n",
    "  t.ID_MUNICIPIO,\n",
    "  m.MUNICIPIO,\n",
    "  t.CASOS_TOTAL\n",
    "FROM (\n",
    "  SELECT \n",
    "    ANO,\n",
    "    ID_MUNICIPIO,\n",
    "    COUNT(*) AS CASOS_TOTAL,\n",
    "    ROW_NUMBER() OVER (PARTITION BY ANO ORDER BY COUNT(*) DESC) AS RN\n",
    "  FROM tb_dengue_nova\n",
    "  WHERE ANO IN (2023, 2024)\n",
    "  GROUP BY ANO, ID_MUNICIPIO\n",
    ") t\n",
    "INNER JOIN tb_municipio_nova m\n",
    "  ON t.ID_MUNICIPIO = m.ID_MUNICIPIO\n",
    "WHERE t.RN = 1;"
   ]
  },
  {
   "cell_type": "markdown",
   "metadata": {
    "application/vnd.databricks.v1+cell": {
     "cellMetadata": {},
     "inputWidgets": {},
     "nuid": "dc838f6b-24e5-46e7-86e5-dfacd0d30a70",
     "showTitle": false,
     "tableResultSettingsMap": {},
     "title": ""
    }
   },
   "source": [
    "## MUNICIPIO QUE TEVE MAIS CASOS DE DENGUE"
   ]
  },
  {
   "cell_type": "code",
   "execution_count": 0,
   "metadata": {
    "application/vnd.databricks.v1+cell": {
     "cellMetadata": {
      "byteLimit": 2048000,
      "implicitDf": true,
      "rowLimit": 10000
     },
     "inputWidgets": {},
     "nuid": "48fb9140-3907-4204-8f45-5a6ea40da21b",
     "showTitle": false,
     "tableResultSettingsMap": {},
     "title": ""
    }
   },
   "outputs": [],
   "source": [
    "%sql\n",
    "SELECT \n",
    "    m.MUNICIPIO,\n",
    "    COUNT(*) AS TOTAL_CASOS\n",
    "FROM tb_dengue_nova c\n",
    "INNER JOIN tb_municipio_nova m ON c.ID_MUNICIPIO = m.ID_MUNICIPIO\n",
    "GROUP BY m.MUNICIPIO\n",
    "ORDER BY TOTAL_CASOS DESC\n",
    "LIMIT 1"
   ]
  },
  {
   "cell_type": "markdown",
   "metadata": {
    "application/vnd.databricks.v1+cell": {
     "cellMetadata": {},
     "inputWidgets": {},
     "nuid": "23caa1c6-0e03-4122-812b-421742910c3f",
     "showTitle": false,
     "tableResultSettingsMap": {},
     "title": ""
    }
   },
   "source": [
    "## QUANTIDADE DE CASOS COM FEBRE, VOMITO, NAUSEA, DOR MUSCULAR, DOR DE CABEÇA"
   ]
  },
  {
   "cell_type": "code",
   "execution_count": 0,
   "metadata": {
    "application/vnd.databricks.v1+cell": {
     "cellMetadata": {
      "byteLimit": 2048000,
      "implicitDf": true,
      "rowLimit": 10000
     },
     "inputWidgets": {},
     "nuid": "7fd8501f-4094-4a10-ba66-e18ef6f5dd2d",
     "showTitle": false,
     "tableResultSettingsMap": {},
     "title": ""
    }
   },
   "outputs": [],
   "source": [
    "%sql\n",
    "SELECT\n",
    "  SUM(CASE WHEN POSSUI_FEBRE = 'SIM' THEN 1 END) AS CASOS_FEBRE,\n",
    "  SUM(CASE WHEN POSSUI_VOMITO = 'SIM' THEN 1 END) AS CASOS_VOMITO,\n",
    "  SUM(CASE WHEN POSSUI_NAUSEA = 'SIM' THEN 1 END) AS CASOS_NAUSEA,\n",
    "  SUM(CASE WHEN POSSUI_DOR_MUSCULAR = 'SIM' THEN 1 END) AS CASOS_DOR_MUSCULAR,\n",
    "  SUM(CASE WHEN POSSUI_DOR_DE_CABECA = 'SIM' THEN 1 END) AS CASOS_DOR_DE_CABECA\n",
    "FROM tb_dengue_nova"
   ]
  },
  {
   "cell_type": "markdown",
   "metadata": {
    "application/vnd.databricks.v1+cell": {
     "cellMetadata": {},
     "inputWidgets": {},
     "nuid": "773a70a5-2e87-4dc8-9015-8e7d9847b972",
     "showTitle": false,
     "tableResultSettingsMap": {},
     "title": ""
    }
   },
   "source": [
    "## SEXO QUE MAIS TEVE CASOS DE DENGUE"
   ]
  },
  {
   "cell_type": "code",
   "execution_count": 0,
   "metadata": {
    "application/vnd.databricks.v1+cell": {
     "cellMetadata": {
      "byteLimit": 2048000,
      "implicitDf": true,
      "rowLimit": 10000
     },
     "inputWidgets": {},
     "nuid": "c95e11e9-04ee-4cc6-b357-ac8b951f002b",
     "showTitle": false,
     "tableResultSettingsMap": {},
     "title": ""
    }
   },
   "outputs": [],
   "source": [
    "%sql\n",
    "SELECT \n",
    "    c.SEXO AS SEXO,\n",
    "    COUNT(*) AS TOTAL_CASOS\n",
    "FROM tb_dengue_nova c\n",
    "INNER JOIN tb_municipio_nova m \n",
    "    ON c.ID_MUNICIPIO = m.ID_MUNICIPIO\n",
    "GROUP BY c.SEXO\n",
    "ORDER BY TOTAL_CASOS DESC"
   ]
  },
  {
   "cell_type": "code",
   "execution_count": 0,
   "metadata": {
    "application/vnd.databricks.v1+cell": {
     "cellMetadata": {
      "byteLimit": 2048000,
      "rowLimit": 10000
     },
     "inputWidgets": {},
     "nuid": "81f19953-1e67-482b-b15b-017b6a1c073e",
     "showTitle": false,
     "tableResultSettingsMap": {},
     "title": ""
    }
   },
   "outputs": [],
   "source": [
    "df_gold = spark.sql(\"\"\"\n",
    "SELECT \n",
    "    c.ID_MUNICIPIO,\n",
    "    m.MUNICIPIO,\n",
    "    m.LATITUDE,\n",
    "    m.LONGITUDE,\n",
    "    m.ALTITUDE,\n",
    "    c.DT_NOTIFICACAO,\n",
    "    c.ANO,\n",
    "    c.SEXO,\n",
    "    c.POSSUI_FEBRE,\n",
    "    c.POSSUI_NAUSEA,\n",
    "    c.POSSUI_VOMITO,\n",
    "    c.POSSUI_DOR_MUSCULAR,\n",
    "    c.POSSUI_DOR_DE_CABECA,\n",
    "    current_timestamp() AS DT_INGESTAO\n",
    "FROM tb_dengue_nova c\n",
    "INNER JOIN tb_municipio_nova m ON c.ID_MUNICIPIO = m.ID_MUNICIPIO\"\"\")"
   ]
  },
  {
   "cell_type": "code",
   "execution_count": 0,
   "metadata": {
    "application/vnd.databricks.v1+cell": {
     "cellMetadata": {
      "byteLimit": 2048000,
      "rowLimit": 10000
     },
     "inputWidgets": {},
     "nuid": "15f14a3d-6dcd-445c-b548-d2c8fd0378d0",
     "showTitle": false,
     "tableResultSettingsMap": {},
     "title": ""
    }
   },
   "outputs": [],
   "source": [
    "df_gold.write.mode(\"overwrite\").parquet(\"/mnt/dados/gold/dengue_municipio_gold.parquet\")"
   ]
  },
  {
   "cell_type": "code",
   "execution_count": 0,
   "metadata": {
    "application/vnd.databricks.v1+cell": {
     "cellMetadata": {
      "byteLimit": 2048000,
      "rowLimit": 10000
     },
     "inputWidgets": {},
     "nuid": "e05bc69e-5df5-47fe-9469-4bfeaefab572",
     "showTitle": false,
     "tableResultSettingsMap": {},
     "title": ""
    }
   },
   "outputs": [],
   "source": [
    "df_gold.createOrReplaceTempView(\"tb_dengue_gold\")"
   ]
  },
  {
   "cell_type": "code",
   "execution_count": 0,
   "metadata": {
    "application/vnd.databricks.v1+cell": {
     "cellMetadata": {
      "byteLimit": 2048000,
      "rowLimit": 10000
     },
     "inputWidgets": {},
     "nuid": "deb3150a-0724-4e6a-af42-17871758f835",
     "showTitle": false,
     "tableResultSettingsMap": {},
     "title": ""
    }
   },
   "outputs": [],
   "source": [
    "display(spark.sql(\"SELECT * FROM tb_dengue_gold\"))"
   ]
  },
  {
   "cell_type": "code",
   "execution_count": 0,
   "metadata": {
    "application/vnd.databricks.v1+cell": {
     "cellMetadata": {
      "byteLimit": 2048000,
      "rowLimit": 10000
     },
     "inputWidgets": {},
     "nuid": "dd61fd56-005d-4d1e-ba50-9f2351b57102",
     "showTitle": false,
     "tableResultSettingsMap": {},
     "title": ""
    }
   },
   "outputs": [],
   "source": [
    "display(dbutils.fs.ls(\"/mnt/dados/gold\"))"
   ]
  }
 ],
 "metadata": {
  "application/vnd.databricks.v1+notebook": {
   "computePreferences": null,
   "dashboards": [],
   "environmentMetadata": {
    "base_environment": "",
    "environment_version": "2"
   },
   "inputWidgetPreferences": null,
   "language": "python",
   "notebookMetadata": {
    "mostRecentlyExecutedCommandWithImplicitDF": {
     "commandId": 7553827851368717,
     "dataframes": [
      "_sqldf"
     ]
    },
    "pythonIndentUnit": 4
   },
   "notebookName": "GOLD",
   "widgets": {}
  },
  "language_info": {
   "name": "python"
  }
 },
 "nbformat": 4,
 "nbformat_minor": 0
}
