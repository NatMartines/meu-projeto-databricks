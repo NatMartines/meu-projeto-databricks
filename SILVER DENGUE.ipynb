{
 "cells": [
  {
   "cell_type": "code",
   "execution_count": 0,
   "metadata": {
    "application/vnd.databricks.v1+cell": {
     "cellMetadata": {
      "byteLimit": 2048000,
      "rowLimit": 10000
     },
     "inputWidgets": {},
     "nuid": "fbb5cc58-b978-4da4-b269-7b1014d5ca47",
     "showTitle": false,
     "tableResultSettingsMap": {},
     "title": ""
    }
   },
   "outputs": [],
   "source": [
    "display(dbutils.fs.ls(\"/mnt/dados/bronze\"))"
   ]
  },
  {
   "cell_type": "code",
   "execution_count": 0,
   "metadata": {
    "application/vnd.databricks.v1+cell": {
     "cellMetadata": {
      "byteLimit": 2048000,
      "rowLimit": 10000
     },
     "inputWidgets": {},
     "nuid": "435b2be8-7a99-48c2-82c5-4e5839c6659b",
     "showTitle": false,
     "tableResultSettingsMap": {},
     "title": ""
    }
   },
   "outputs": [],
   "source": [
    "df_dengue = spark.read.parquet(\"/mnt/dados/bronze/dengue/*.parquet\")"
   ]
  },
  {
   "cell_type": "code",
   "execution_count": 0,
   "metadata": {
    "application/vnd.databricks.v1+cell": {
     "cellMetadata": {
      "byteLimit": 2048000,
      "rowLimit": 10000
     },
     "inputWidgets": {},
     "nuid": "19430773-2317-4f0b-8f5d-18b2496b1bb1",
     "showTitle": false,
     "tableResultSettingsMap": {},
     "title": ""
    }
   },
   "outputs": [],
   "source": [
    "df_dengue.createOrReplaceTempView(\"tb_dengue\")"
   ]
  },
  {
   "cell_type": "code",
   "execution_count": 0,
   "metadata": {
    "application/vnd.databricks.v1+cell": {
     "cellMetadata": {
      "byteLimit": 2048000,
      "rowLimit": 10000
     },
     "inputWidgets": {},
     "nuid": "dfbca80b-e6b1-43d6-b536-d96720e3ce47",
     "showTitle": false,
     "tableResultSettingsMap": {},
     "title": ""
    }
   },
   "outputs": [],
   "source": [
    "display(spark.sql(\"SELECT * FROM tb_dengue\"))"
   ]
  },
  {
   "cell_type": "code",
   "execution_count": 0,
   "metadata": {
    "application/vnd.databricks.v1+cell": {
     "cellMetadata": {
      "byteLimit": 2048000,
      "implicitDf": true,
      "rowLimit": 10000
     },
     "inputWidgets": {},
     "nuid": "208412b5-82f6-40bd-a9a2-1a42e016f0d1",
     "showTitle": false,
     "tableResultSettingsMap": {},
     "title": ""
    }
   },
   "outputs": [],
   "source": [
    "%sql\n",
    "SELECT FEBRE, MIALGIA, CEFALEIA, VOMITO, NAUSEA FROM tb_dengue"
   ]
  },
  {
   "cell_type": "code",
   "execution_count": 0,
   "metadata": {
    "application/vnd.databricks.v1+cell": {
     "cellMetadata": {
      "byteLimit": 2048000,
      "rowLimit": 10000
     },
     "inputWidgets": {},
     "nuid": "de6b5099-f1ce-48d6-bdbd-c4524a91d2d3",
     "showTitle": false,
     "tableResultSettingsMap": {},
     "title": ""
    }
   },
   "outputs": [],
   "source": [
    "df_silver = spark.sql(\"\"\"\n",
    "SELECT\n",
    "  current_timestamp() AS DT_INGESTAO,\n",
    "  ID_MUNICIP AS ID_MUNICIPIO,\n",
    "  DT_NOTIFIC AS DT_NOTIFICACAO,\n",
    "  NU_ANO AS ANO,\n",
    "\n",
    "  CASE \n",
    "    WHEN CS_SEXO = 'F' THEN 'FEMININO'\n",
    "    WHEN CS_SEXO = 'M' THEN 'MASCULINO'\n",
    "    ELSE 'Não informado'\n",
    "  END AS SEXO,\n",
    "\n",
    "  CASE \n",
    "    WHEN FEBRE = 1 THEN 'SIM'\n",
    "    WHEN FEBRE = 2 THEN 'NÃO'\n",
    "    ELSE 'Não informado'\n",
    "  END AS POSSUI_FEBRE,\n",
    "\n",
    "  CASE \n",
    "    WHEN VOMITO = 1 THEN 'SIM'\n",
    "    WHEN VOMITO = 2 THEN 'NÃO'\n",
    "    ELSE 'Não informado'\n",
    "  END AS POSSUI_VOMITO,\n",
    "\n",
    "  CASE \n",
    "    WHEN NAUSEA = 1 THEN 'SIM'\n",
    "    WHEN NAUSEA = 2 THEN 'NÃO'\n",
    "    ELSE 'Não informado'\n",
    "  END AS POSSUI_NAUSEA,\n",
    "\n",
    "  CASE \n",
    "    WHEN MIALGIA = 1 THEN 'SIM'\n",
    "    WHEN MIALGIA = 2 THEN 'NÃO'\n",
    "    ELSE 'Não informado'\n",
    "  END AS POSSUI_DOR_MUSCULAR,\n",
    "\n",
    "  CASE \n",
    "    WHEN CEFALEIA = 1 THEN 'SIM'\n",
    "    WHEN CEFALEIA = 2 THEN 'NÃO'\n",
    "    ELSE 'Não informado'\n",
    "  END AS POSSUI_DOR_DE_CABECA\n",
    "\n",
    "FROM tb_dengue\n",
    "\"\"\")\n"
   ]
  },
  {
   "cell_type": "code",
   "execution_count": 0,
   "metadata": {
    "application/vnd.databricks.v1+cell": {
     "cellMetadata": {
      "byteLimit": 2048000,
      "rowLimit": 10000
     },
     "inputWidgets": {},
     "nuid": "9f09ffbc-3985-495a-9eb8-27adfa6b5bff",
     "showTitle": false,
     "tableResultSettingsMap": {},
     "title": ""
    }
   },
   "outputs": [],
   "source": [
    "display(df_silver)"
   ]
  },
  {
   "cell_type": "code",
   "execution_count": 0,
   "metadata": {
    "application/vnd.databricks.v1+cell": {
     "cellMetadata": {
      "byteLimit": 2048000,
      "rowLimit": 10000
     },
     "inputWidgets": {},
     "nuid": "aca7fbc9-6ced-4fc0-8bd2-3fdff04b7b59",
     "showTitle": false,
     "tableResultSettingsMap": {},
     "title": ""
    }
   },
   "outputs": [],
   "source": [
    "df_silver.write.mode(\"overwrite\").parquet(\"/mnt/dados/silver/dengue/tb_dengue.parquet\")"
   ]
  },
  {
   "cell_type": "code",
   "execution_count": 0,
   "metadata": {
    "application/vnd.databricks.v1+cell": {
     "cellMetadata": {
      "byteLimit": 2048000,
      "rowLimit": 10000
     },
     "inputWidgets": {},
     "nuid": "652af053-7e28-4340-9d94-8dca004e3a75",
     "showTitle": false,
     "tableResultSettingsMap": {},
     "title": ""
    }
   },
   "outputs": [],
   "source": [
    "df_silver.createOrReplaceTempView(\"tb_dengue_nova\")"
   ]
  },
  {
   "cell_type": "code",
   "execution_count": 0,
   "metadata": {
    "application/vnd.databricks.v1+cell": {
     "cellMetadata": {
      "byteLimit": 2048000,
      "rowLimit": 10000
     },
     "inputWidgets": {},
     "nuid": "d44a8631-8579-4cd5-a07a-f3066ebfb2d6",
     "showTitle": false,
     "tableResultSettingsMap": {},
     "title": ""
    }
   },
   "outputs": [],
   "source": [
    "display(spark.sql(\"SELECT * FROM tb_dengue_nova\"))"
   ]
  },
  {
   "cell_type": "code",
   "execution_count": 0,
   "metadata": {
    "application/vnd.databricks.v1+cell": {
     "cellMetadata": {
      "byteLimit": 2048000,
      "rowLimit": 10000
     },
     "inputWidgets": {},
     "nuid": "3b65b580-3c9b-4ed6-b052-ac45b737a019",
     "showTitle": false,
     "tableResultSettingsMap": {},
     "title": ""
    }
   },
   "outputs": [],
   "source": [
    "display(dbutils.fs.ls(\"/mnt/dados/silver\"))"
   ]
  }
 ],
 "metadata": {
  "application/vnd.databricks.v1+notebook": {
   "computePreferences": null,
   "dashboards": [],
   "environmentMetadata": {
    "base_environment": "",
    "environment_version": "2"
   },
   "inputWidgetPreferences": null,
   "language": "python",
   "notebookMetadata": {
    "mostRecentlyExecutedCommandWithImplicitDF": {
     "commandId": 7553827851368682,
     "dataframes": [
      "_sqldf"
     ]
    },
    "pythonIndentUnit": 4
   },
   "notebookName": "SILVER DENGUE",
   "widgets": {}
  },
  "language_info": {
   "name": "python"
  }
 },
 "nbformat": 4,
 "nbformat_minor": 0
}
